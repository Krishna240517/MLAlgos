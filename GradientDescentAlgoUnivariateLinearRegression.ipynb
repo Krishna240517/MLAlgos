{
  "nbformat": 4,
  "nbformat_minor": 0,
  "metadata": {
    "colab": {
      "provenance": [],
      "authorship_tag": "ABX9TyOm61mL9PPL+27pltyx80G9",
      "include_colab_link": true
    },
    "kernelspec": {
      "name": "python3",
      "display_name": "Python 3"
    },
    "language_info": {
      "name": "python"
    }
  },
  "cells": [
    {
      "cell_type": "markdown",
      "metadata": {
        "id": "view-in-github",
        "colab_type": "text"
      },
      "source": [
        "<a href=\"https://colab.research.google.com/github/Krishna240517/MLAlgos/blob/main/GradientDescentAlgoUnivariateLinearRegression.ipynb\" target=\"_parent\"><img src=\"https://colab.research.google.com/assets/colab-badge.svg\" alt=\"Open In Colab\"/></a>"
      ]
    },
    {
      "cell_type": "code",
      "source": [
        "import numpy as np\n",
        "import matplotlib.pyplot as plt\n",
        "x = np.array([1.0,2.0])\n",
        "y = np.array([300.0,500.0])"
      ],
      "metadata": {
        "id": "SC1SB5wjMmuf"
      },
      "execution_count": null,
      "outputs": []
    },
    {
      "cell_type": "code",
      "execution_count": null,
      "metadata": {
        "id": "nTKZ3wolLrWT"
      },
      "outputs": [],
      "source": [
        "# compute the cost function\n",
        "def compute_cost_function(w,b,x,y):\n",
        "  cost = 0\n",
        "  m = x.shape[0]\n",
        "  for i in range(m):\n",
        "    f_wb = w * x[i] + b\n",
        "    cost += (f_wb - y[i]) ** 2\n",
        "  total_cost = 1 / (2 * m) * cost\n",
        "  return total_cost\n"
      ]
    },
    {
      "cell_type": "code",
      "source": [
        "# compute the derivative\n",
        "def compute_gradient(w,b,x,y):\n",
        "  m = x.shape[0]\n",
        "  dj_dw = 0\n",
        "  dj_db = 0\n",
        "  for i in range(m):\n",
        "    f_wb = w * x[i] +  b\n",
        "    dj_dw_i = (f_wb - y[i]) * x[i];\n",
        "    dj_db_i = f_wb - y[i];\n",
        "    dj_dw += dj_dw_i\n",
        "    dj_db += dj_db_i\n",
        "  dj_dw = dj_dw / m\n",
        "  dj_db = dj_db / m\n",
        "  return dj_dw,dj_db"
      ],
      "metadata": {
        "id": "BfKnueF2LvYu"
      },
      "execution_count": null,
      "outputs": []
    },
    {
      "cell_type": "code",
      "source": [
        "def gradient_descent(w_in, b_in, x, y, alpha, iters):\n",
        "    w, b = w_in, b_in  # Start with initial params\n",
        "    prev_cost = compute_cost_vector(w, b, x, y)\n",
        "    J_history = []\n",
        "    tolerance = 1e-6\n",
        "\n",
        "    for i in range(iters):\n",
        "        dj_dw, dj_db = compute_gradient_vector(w, b, x, y)  # ✅ Use current w, b\n",
        "\n",
        "        # Update parameters\n",
        "        w = w - alpha * dj_dw\n",
        "        b = b - alpha * dj_db\n",
        "\n",
        "        # Compute new cost\n",
        "        cost = compute_cost_function(w, b, x, y)\n",
        "        J_history.append(cost)\n",
        "\n",
        "        # ✅ Scalar convergence check\n",
        "        if abs(prev_cost - cost) < tolerance:\n",
        "            print(f\"Converged after {i} iterations\")\n",
        "            break\n",
        "\n",
        "        prev_cost = cost\n",
        "\n",
        "    return w, b, J_history\n"
      ],
      "metadata": {
        "id": "iSGp0XWCOXc2"
      },
      "execution_count": null,
      "outputs": []
    },
    {
      "cell_type": "code",
      "source": [
        "w_final, b_final, J_history = gradient_descent(0, 0, x, y, 0.01, 1000)\n",
        "\n",
        "import matplotlib.pyplot as plt\n",
        "plt.plot(J_history)\n",
        "plt.xlabel(\"Iterations (x10)\")\n",
        "plt.ylabel(\"Cost\")\n",
        "plt.title(\"Cost Function Convergence\")\n",
        "plt.show()"
      ],
      "metadata": {
        "colab": {
          "base_uri": "https://localhost:8080/",
          "height": 472
        },
        "id": "xm0P0KDQQ1IX",
        "outputId": "9ea6eee7-9171-4a51-f40c-3d01c8e7bf93"
      },
      "execution_count": null,
      "outputs": [
        {
          "output_type": "display_data",
          "data": {
            "text/plain": [
              "<Figure size 640x480 with 1 Axes>"
            ],
            "image/png": "[encoded data removed]"
          },
          "metadata": {}
        }
      ]
    },
    {
      "cell_type": "code",
      "source": [
        "# vectorized form of each and every function"
      ],
      "metadata": {
        "id": "mBvjx10MQ-iu"
      },
      "execution_count": null,
      "outputs": []
    },
    {
      "cell_type": "code",
      "source": [
        "# compute_cost_function_vectorized\n",
        "def compute_cost_vector(w,b,x,y):\n",
        "  m = x.shape[0]\n",
        "  return (1 / (2 * m)) * np.sum(((w * x + b) - y) ** 2)"
      ],
      "metadata": {
        "id": "wvdNLnaAGguC"
      },
      "execution_count": null,
      "outputs": []
    },
    {
      "cell_type": "code",
      "source": [
        "# compute derivative\n",
        "def compute_gradient_vector(w,b,x,y):\n",
        "  m = x.shape[0]\n",
        "  dj_dw = (1 / m) * np.sum(((w * x + b) - y) * x)\n",
        "  dj_db = (1 / m) * np.sum((w * x + b) - y)\n",
        "  return dj_db,dj_dw"
      ],
      "metadata": {
        "id": "7VyWjgG7HKiu"
      },
      "execution_count": null,
      "outputs": []
    },
    {
      "cell_type": "code",
      "source": [
        "## OOP style\n",
        "\n",
        "\n",
        "class LinearRegressionUni:\n",
        "  def __init__(self,alpha=0.01,iters=1000,tolerance = 1e-6):\n",
        "    self.alpha = alpha\n",
        "    self.iters = iters\n",
        "    self.tolerance = tolerance\n",
        "    self.w = 0\n",
        "    self.b = 0\n",
        "    self.J_history = []\n",
        "\n",
        "  def compute_cost(self,x,y):\n",
        "    m = x.shape[0]\n",
        "    preds = self.w * x + self.b\n",
        "    errors = preds - y\n",
        "    return np.sum(errors ** 2) / (2 * m)\n",
        "\n",
        "  def compute_gradient(self,x,y):\n",
        "    m = x.shape[0]\n",
        "    preds = self.w * x + self.b\n",
        "    errors = preds - y\n",
        "    dj_dw = (1 / m) * np.sum(errors * x)\n",
        "    dj_db = (1 / m) * np.sum(errors)\n",
        "    return dj_dw, dj_db\n",
        "\n",
        "  def fit(self,x,y):\n",
        "    prev_cost = self.compute_cost(x,y)\n",
        "\n",
        "    for i in range(self.iters):\n",
        "      dj_dw, dj_db = self.compute_gradient(x,y)\n",
        "      self.w -= self.alpha * dj_dw\n",
        "      self.b -= self.alpha * dj_db\n",
        "\n",
        "      newCost = self.compute_cost(x,y)\n",
        "      self.J_history.append(newCost)\n",
        "\n",
        "      if abs(prev_cost - newCost) < self.tolerance:\n",
        "        print(f\"Converged after {i} iterations\")\n",
        "        break\n",
        "      prev_cost = newCost\n",
        "    return self\n",
        "  def predict(self,x):\n",
        "    return self.w * x + self.b\n"
      ],
      "metadata": {
        "id": "miJjFCAaHubL"
      },
      "execution_count": null,
      "outputs": []
    },
    {
      "cell_type": "code",
      "source": [
        "\n",
        "x = np.array([1, 2, 3, 4, 5], dtype=float)\n",
        "y = np.array([2, 4, 6, 8, 10], dtype=float)\n",
        "\n",
        "\n",
        "model = LinearRegressionUni()\n",
        "model.fit(x, y)\n",
        "\n",
        "\n",
        "x = int(input(\"Enter a Input to get the predicted output: \"))\n",
        "\n",
        "print(f\"Prediction for x:{x} {model.predict(5)}\")\n",
        "print(\"Learned weight:\", model.w)\n",
        "print(\"Learned bias:\", model.b)\n"
      ],
      "metadata": {
        "colab": {
          "base_uri": "https://localhost:8080/"
        },
        "id": "7I6U2b1wOOsC",
        "outputId": "b6a9ed3f-3cfa-4853-f8cc-4ecffb5951d6"
      },
      "execution_count": null,
      "outputs": [
        {
          "output_type": "stream",
          "name": "stdout",
          "text": [
            "Enter a Input to get the predicted output: 5\n",
            "Prediction for x:5 9.963527608958529\n",
            "Learned weight: 1.9737548787242036\n",
            "Learned bias: 0.09475321533750963\n"
          ]
        }
      ]
    }
  ]
}